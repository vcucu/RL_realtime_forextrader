{
 "cells": [
  {
   "cell_type": "code",
   "execution_count": 196,
   "metadata": {},
   "outputs": [],
   "source": [
    "import csv\n",
    "import json\n",
    "import pandas as pd"
   ]
  },
  {
   "cell_type": "code",
   "execution_count": 174,
   "metadata": {},
   "outputs": [],
   "source": [
    "st = '{\"complete\": true,\"volume\": 1,\"time\": \"2019-10-31T00:00:15.000000000Z\",\"b_o\": \"1.11529\",\"b_h\": \"1.11529\",\"b_l\": \"1.11529\",\"b_c\": \"1.11529\",\"a_o\": \"1.11542\",\"a_h\": \"1.11542\",\"a_l\": \"1.11542\",\"a_c\": \"1.11542\"},'\n",
    "st= '[{\"complete\": true,\"volume\": 13,\"time\": \"2019-10-31T00:00:00.000000000Z\",\"b_o\": \"1.11517\",\"b_h\": \"1.11529\",\"b_l\": \"1.11517\",\"b_c\": \"1.11527\",\"a_o\": \"1.11531\",\"a_h\": \"1.11544\",\"a_l\": \"1.11531\",\"a_c\": \"1.11539\"},'"
   ]
  },
  {
   "cell_type": "code",
   "execution_count": 173,
   "metadata": {},
   "outputs": [
    {
     "data": {
      "text/plain": [
       "'{\"complete\": true,\"volume\": 13,\"time\": \"2019-10-31T00:00:00.000000000Z\",\"b_o\": \"1.11517\",\"b_h\": \"1.11529\",\"b_l\": \"1.11517\",\"b_c\": \"1.11527\",\"a_o\": \"1.11531\",\"a_h\": \"1.11544\",\"a_l\": \"1.11531\",\"a_c\": \"1.11539\"}'"
      ]
     },
     "execution_count": 173,
     "metadata": {},
     "output_type": "execute_result"
    }
   ],
   "source": [
    "st.strip(',[]')"
   ]
  },
  {
   "cell_type": "code",
   "execution_count": 102,
   "metadata": {
    "collapsed": true
   },
   "outputs": [
    {
     "ename": "ValueError",
     "evalue": "If using all scalar values, you must pass an index",
     "output_type": "error",
     "traceback": [
      "\u001b[1;31m---------------------------------------------------------------------------\u001b[0m",
      "\u001b[1;31mValueError\u001b[0m                                Traceback (most recent call last)",
      "\u001b[1;32m<ipython-input-102-4d7b5a4f5949>\u001b[0m in \u001b[0;36m<module>\u001b[1;34m\u001b[0m\n\u001b[0;32m      2\u001b[0m \u001b[0md\u001b[0m \u001b[1;33m=\u001b[0m \u001b[0mjson\u001b[0m\u001b[1;33m.\u001b[0m\u001b[0mloads\u001b[0m\u001b[1;33m(\u001b[0m\u001b[0mjson_acceptable_string\u001b[0m\u001b[1;33m)\u001b[0m\u001b[1;33m\u001b[0m\u001b[1;33m\u001b[0m\u001b[0m\n\u001b[0;32m      3\u001b[0m \u001b[0mjson\u001b[0m\u001b[1;33m.\u001b[0m\u001b[0mloads\u001b[0m\u001b[1;33m(\u001b[0m\u001b[0mst\u001b[0m\u001b[1;33m)\u001b[0m\u001b[1;33m\u001b[0m\u001b[1;33m\u001b[0m\u001b[0m\n\u001b[1;32m----> 4\u001b[1;33m \u001b[0mpd\u001b[0m\u001b[1;33m.\u001b[0m\u001b[0mDataFrame\u001b[0m\u001b[1;33m(\u001b[0m\u001b[0md\u001b[0m\u001b[1;33m)\u001b[0m\u001b[1;33m\u001b[0m\u001b[1;33m\u001b[0m\u001b[0m\n\u001b[0m",
      "\u001b[1;32m~\\Anaconda3\\lib\\site-packages\\pandas\\core\\frame.py\u001b[0m in \u001b[0;36m__init__\u001b[1;34m(self, data, index, columns, dtype, copy)\u001b[0m\n\u001b[0;32m    409\u001b[0m             )\n\u001b[0;32m    410\u001b[0m         \u001b[1;32melif\u001b[0m \u001b[0misinstance\u001b[0m\u001b[1;33m(\u001b[0m\u001b[0mdata\u001b[0m\u001b[1;33m,\u001b[0m \u001b[0mdict\u001b[0m\u001b[1;33m)\u001b[0m\u001b[1;33m:\u001b[0m\u001b[1;33m\u001b[0m\u001b[1;33m\u001b[0m\u001b[0m\n\u001b[1;32m--> 411\u001b[1;33m             \u001b[0mmgr\u001b[0m \u001b[1;33m=\u001b[0m \u001b[0minit_dict\u001b[0m\u001b[1;33m(\u001b[0m\u001b[0mdata\u001b[0m\u001b[1;33m,\u001b[0m \u001b[0mindex\u001b[0m\u001b[1;33m,\u001b[0m \u001b[0mcolumns\u001b[0m\u001b[1;33m,\u001b[0m \u001b[0mdtype\u001b[0m\u001b[1;33m=\u001b[0m\u001b[0mdtype\u001b[0m\u001b[1;33m)\u001b[0m\u001b[1;33m\u001b[0m\u001b[1;33m\u001b[0m\u001b[0m\n\u001b[0m\u001b[0;32m    412\u001b[0m         \u001b[1;32melif\u001b[0m \u001b[0misinstance\u001b[0m\u001b[1;33m(\u001b[0m\u001b[0mdata\u001b[0m\u001b[1;33m,\u001b[0m \u001b[0mma\u001b[0m\u001b[1;33m.\u001b[0m\u001b[0mMaskedArray\u001b[0m\u001b[1;33m)\u001b[0m\u001b[1;33m:\u001b[0m\u001b[1;33m\u001b[0m\u001b[1;33m\u001b[0m\u001b[0m\n\u001b[0;32m    413\u001b[0m             \u001b[1;32mimport\u001b[0m \u001b[0mnumpy\u001b[0m\u001b[1;33m.\u001b[0m\u001b[0mma\u001b[0m\u001b[1;33m.\u001b[0m\u001b[0mmrecords\u001b[0m \u001b[1;32mas\u001b[0m \u001b[0mmrecords\u001b[0m\u001b[1;33m\u001b[0m\u001b[1;33m\u001b[0m\u001b[0m\n",
      "\u001b[1;32m~\\Anaconda3\\lib\\site-packages\\pandas\\core\\internals\\construction.py\u001b[0m in \u001b[0;36minit_dict\u001b[1;34m(data, index, columns, dtype)\u001b[0m\n\u001b[0;32m    255\u001b[0m             \u001b[0marr\u001b[0m \u001b[1;32mif\u001b[0m \u001b[1;32mnot\u001b[0m \u001b[0mis_datetime64tz_dtype\u001b[0m\u001b[1;33m(\u001b[0m\u001b[0marr\u001b[0m\u001b[1;33m)\u001b[0m \u001b[1;32melse\u001b[0m \u001b[0marr\u001b[0m\u001b[1;33m.\u001b[0m\u001b[0mcopy\u001b[0m\u001b[1;33m(\u001b[0m\u001b[1;33m)\u001b[0m \u001b[1;32mfor\u001b[0m \u001b[0marr\u001b[0m \u001b[1;32min\u001b[0m \u001b[0marrays\u001b[0m\u001b[1;33m\u001b[0m\u001b[1;33m\u001b[0m\u001b[0m\n\u001b[0;32m    256\u001b[0m         ]\n\u001b[1;32m--> 257\u001b[1;33m     \u001b[1;32mreturn\u001b[0m \u001b[0marrays_to_mgr\u001b[0m\u001b[1;33m(\u001b[0m\u001b[0marrays\u001b[0m\u001b[1;33m,\u001b[0m \u001b[0mdata_names\u001b[0m\u001b[1;33m,\u001b[0m \u001b[0mindex\u001b[0m\u001b[1;33m,\u001b[0m \u001b[0mcolumns\u001b[0m\u001b[1;33m,\u001b[0m \u001b[0mdtype\u001b[0m\u001b[1;33m=\u001b[0m\u001b[0mdtype\u001b[0m\u001b[1;33m)\u001b[0m\u001b[1;33m\u001b[0m\u001b[1;33m\u001b[0m\u001b[0m\n\u001b[0m\u001b[0;32m    258\u001b[0m \u001b[1;33m\u001b[0m\u001b[0m\n\u001b[0;32m    259\u001b[0m \u001b[1;33m\u001b[0m\u001b[0m\n",
      "\u001b[1;32m~\\Anaconda3\\lib\\site-packages\\pandas\\core\\internals\\construction.py\u001b[0m in \u001b[0;36marrays_to_mgr\u001b[1;34m(arrays, arr_names, index, columns, dtype)\u001b[0m\n\u001b[0;32m     75\u001b[0m     \u001b[1;31m# figure out the index, if necessary\u001b[0m\u001b[1;33m\u001b[0m\u001b[1;33m\u001b[0m\u001b[1;33m\u001b[0m\u001b[0m\n\u001b[0;32m     76\u001b[0m     \u001b[1;32mif\u001b[0m \u001b[0mindex\u001b[0m \u001b[1;32mis\u001b[0m \u001b[1;32mNone\u001b[0m\u001b[1;33m:\u001b[0m\u001b[1;33m\u001b[0m\u001b[1;33m\u001b[0m\u001b[0m\n\u001b[1;32m---> 77\u001b[1;33m         \u001b[0mindex\u001b[0m \u001b[1;33m=\u001b[0m \u001b[0mextract_index\u001b[0m\u001b[1;33m(\u001b[0m\u001b[0marrays\u001b[0m\u001b[1;33m)\u001b[0m\u001b[1;33m\u001b[0m\u001b[1;33m\u001b[0m\u001b[0m\n\u001b[0m\u001b[0;32m     78\u001b[0m     \u001b[1;32melse\u001b[0m\u001b[1;33m:\u001b[0m\u001b[1;33m\u001b[0m\u001b[1;33m\u001b[0m\u001b[0m\n\u001b[0;32m     79\u001b[0m         \u001b[0mindex\u001b[0m \u001b[1;33m=\u001b[0m \u001b[0mensure_index\u001b[0m\u001b[1;33m(\u001b[0m\u001b[0mindex\u001b[0m\u001b[1;33m)\u001b[0m\u001b[1;33m\u001b[0m\u001b[1;33m\u001b[0m\u001b[0m\n",
      "\u001b[1;32m~\\Anaconda3\\lib\\site-packages\\pandas\\core\\internals\\construction.py\u001b[0m in \u001b[0;36mextract_index\u001b[1;34m(data)\u001b[0m\n\u001b[0;32m    356\u001b[0m \u001b[1;33m\u001b[0m\u001b[0m\n\u001b[0;32m    357\u001b[0m         \u001b[1;32mif\u001b[0m \u001b[1;32mnot\u001b[0m \u001b[0mindexes\u001b[0m \u001b[1;32mand\u001b[0m \u001b[1;32mnot\u001b[0m \u001b[0mraw_lengths\u001b[0m\u001b[1;33m:\u001b[0m\u001b[1;33m\u001b[0m\u001b[1;33m\u001b[0m\u001b[0m\n\u001b[1;32m--> 358\u001b[1;33m             \u001b[1;32mraise\u001b[0m \u001b[0mValueError\u001b[0m\u001b[1;33m(\u001b[0m\u001b[1;34m\"If using all scalar values, you must pass an index\"\u001b[0m\u001b[1;33m)\u001b[0m\u001b[1;33m\u001b[0m\u001b[1;33m\u001b[0m\u001b[0m\n\u001b[0m\u001b[0;32m    359\u001b[0m \u001b[1;33m\u001b[0m\u001b[0m\n\u001b[0;32m    360\u001b[0m         \u001b[1;32mif\u001b[0m \u001b[0mhave_series\u001b[0m\u001b[1;33m:\u001b[0m\u001b[1;33m\u001b[0m\u001b[1;33m\u001b[0m\u001b[0m\n",
      "\u001b[1;31mValueError\u001b[0m: If using all scalar values, you must pass an index"
     ]
    }
   ],
   "source": [
    "json_acceptable_string = st.replace(\"'\", \"\\\"\")\n",
    "d = json.loads(json_acceptable_string)\n",
    "json.loads(st)\n",
    "pd.DataFrame(d)"
   ]
  },
  {
   "cell_type": "code",
   "execution_count": 136,
   "metadata": {},
   "outputs": [],
   "source": []
  },
  {
   "cell_type": "code",
   "execution_count": 138,
   "metadata": {},
   "outputs": [
    {
     "data": {
      "text/html": [
       "<div>\n",
       "<style scoped>\n",
       "    .dataframe tbody tr th:only-of-type {\n",
       "        vertical-align: middle;\n",
       "    }\n",
       "\n",
       "    .dataframe tbody tr th {\n",
       "        vertical-align: top;\n",
       "    }\n",
       "\n",
       "    .dataframe thead th {\n",
       "        text-align: right;\n",
       "    }\n",
       "</style>\n",
       "<table border=\"1\" class=\"dataframe\">\n",
       "  <thead>\n",
       "    <tr style=\"text-align: right;\">\n",
       "      <th></th>\n",
       "      <th>complete</th>\n",
       "      <th>volume</th>\n",
       "      <th>b_o</th>\n",
       "      <th>b_h</th>\n",
       "      <th>b_l</th>\n",
       "      <th>b_c</th>\n",
       "      <th>a_o</th>\n",
       "      <th>a_h</th>\n",
       "      <th>a_l</th>\n",
       "      <th>a_c</th>\n",
       "    </tr>\n",
       "    <tr>\n",
       "      <th>time</th>\n",
       "      <th></th>\n",
       "      <th></th>\n",
       "      <th></th>\n",
       "      <th></th>\n",
       "      <th></th>\n",
       "      <th></th>\n",
       "      <th></th>\n",
       "      <th></th>\n",
       "      <th></th>\n",
       "      <th></th>\n",
       "    </tr>\n",
       "  </thead>\n",
       "  <tbody>\n",
       "    <tr>\n",
       "      <th>2019-10-31T00:00:15.000000000Z</th>\n",
       "      <td>True</td>\n",
       "      <td>1</td>\n",
       "      <td>1.11529</td>\n",
       "      <td>1.11529</td>\n",
       "      <td>1.11529</td>\n",
       "      <td>1.11529</td>\n",
       "      <td>1.11542</td>\n",
       "      <td>1.11542</td>\n",
       "      <td>1.11542</td>\n",
       "      <td>1.11542</td>\n",
       "    </tr>\n",
       "    <tr>\n",
       "      <th>2019-10-31T00:00:15.000000000Z</th>\n",
       "      <td>True</td>\n",
       "      <td>1</td>\n",
       "      <td>1.11529</td>\n",
       "      <td>1.11529</td>\n",
       "      <td>1.11529</td>\n",
       "      <td>1.11529</td>\n",
       "      <td>1.11542</td>\n",
       "      <td>1.11542</td>\n",
       "      <td>1.11542</td>\n",
       "      <td>1.11542</td>\n",
       "    </tr>\n",
       "    <tr>\n",
       "      <th>2019-10-31T00:00:15.000000000Z</th>\n",
       "      <td>True</td>\n",
       "      <td>1</td>\n",
       "      <td>1.11529</td>\n",
       "      <td>1.11529</td>\n",
       "      <td>1.11529</td>\n",
       "      <td>1.11529</td>\n",
       "      <td>1.11542</td>\n",
       "      <td>1.11542</td>\n",
       "      <td>1.11542</td>\n",
       "      <td>1.11542</td>\n",
       "    </tr>\n",
       "    <tr>\n",
       "      <th>2019-10-31T00:00:15.000000000Z</th>\n",
       "      <td>True</td>\n",
       "      <td>1</td>\n",
       "      <td>1.11529</td>\n",
       "      <td>1.11529</td>\n",
       "      <td>1.11529</td>\n",
       "      <td>1.11529</td>\n",
       "      <td>1.11542</td>\n",
       "      <td>1.11542</td>\n",
       "      <td>1.11542</td>\n",
       "      <td>1.11542</td>\n",
       "    </tr>\n",
       "    <tr>\n",
       "      <th>2019-10-31T00:00:15.000000000Z</th>\n",
       "      <td>True</td>\n",
       "      <td>1</td>\n",
       "      <td>1.11529</td>\n",
       "      <td>1.11529</td>\n",
       "      <td>1.11529</td>\n",
       "      <td>1.11529</td>\n",
       "      <td>1.11542</td>\n",
       "      <td>1.11542</td>\n",
       "      <td>1.11542</td>\n",
       "      <td>1.11542</td>\n",
       "    </tr>\n",
       "    <tr>\n",
       "      <th>2019-10-31T00:00:15.000000000Z</th>\n",
       "      <td>True</td>\n",
       "      <td>1</td>\n",
       "      <td>1.11529</td>\n",
       "      <td>1.11529</td>\n",
       "      <td>1.11529</td>\n",
       "      <td>1.11529</td>\n",
       "      <td>1.11542</td>\n",
       "      <td>1.11542</td>\n",
       "      <td>1.11542</td>\n",
       "      <td>1.11542</td>\n",
       "    </tr>\n",
       "    <tr>\n",
       "      <th>2019-10-31T00:00:15.000000000Z</th>\n",
       "      <td>True</td>\n",
       "      <td>1</td>\n",
       "      <td>1.11529</td>\n",
       "      <td>1.11529</td>\n",
       "      <td>1.11529</td>\n",
       "      <td>1.11529</td>\n",
       "      <td>1.11542</td>\n",
       "      <td>1.11542</td>\n",
       "      <td>1.11542</td>\n",
       "      <td>1.11542</td>\n",
       "    </tr>\n",
       "    <tr>\n",
       "      <th>2019-10-31T00:00:15.000000000Z</th>\n",
       "      <td>True</td>\n",
       "      <td>1</td>\n",
       "      <td>1.11529</td>\n",
       "      <td>1.11529</td>\n",
       "      <td>1.11529</td>\n",
       "      <td>1.11529</td>\n",
       "      <td>1.11542</td>\n",
       "      <td>1.11542</td>\n",
       "      <td>1.11542</td>\n",
       "      <td>1.11542</td>\n",
       "    </tr>\n",
       "    <tr>\n",
       "      <th>2019-10-31T00:00:15.000000000Z</th>\n",
       "      <td>True</td>\n",
       "      <td>1</td>\n",
       "      <td>1.11529</td>\n",
       "      <td>1.11529</td>\n",
       "      <td>1.11529</td>\n",
       "      <td>1.11529</td>\n",
       "      <td>1.11542</td>\n",
       "      <td>1.11542</td>\n",
       "      <td>1.11542</td>\n",
       "      <td>1.11542</td>\n",
       "    </tr>\n",
       "    <tr>\n",
       "      <th>2019-10-31T00:00:15.000000000Z</th>\n",
       "      <td>True</td>\n",
       "      <td>1</td>\n",
       "      <td>1.11529</td>\n",
       "      <td>1.11529</td>\n",
       "      <td>1.11529</td>\n",
       "      <td>1.11529</td>\n",
       "      <td>1.11542</td>\n",
       "      <td>1.11542</td>\n",
       "      <td>1.11542</td>\n",
       "      <td>1.11542</td>\n",
       "    </tr>\n",
       "  </tbody>\n",
       "</table>\n",
       "</div>"
      ],
      "text/plain": [
       "                               complete volume      b_o      b_h      b_l  \\\n",
       "time                                                                        \n",
       "2019-10-31T00:00:15.000000000Z     True      1  1.11529  1.11529  1.11529   \n",
       "2019-10-31T00:00:15.000000000Z     True      1  1.11529  1.11529  1.11529   \n",
       "2019-10-31T00:00:15.000000000Z     True      1  1.11529  1.11529  1.11529   \n",
       "2019-10-31T00:00:15.000000000Z     True      1  1.11529  1.11529  1.11529   \n",
       "2019-10-31T00:00:15.000000000Z     True      1  1.11529  1.11529  1.11529   \n",
       "2019-10-31T00:00:15.000000000Z     True      1  1.11529  1.11529  1.11529   \n",
       "2019-10-31T00:00:15.000000000Z     True      1  1.11529  1.11529  1.11529   \n",
       "2019-10-31T00:00:15.000000000Z     True      1  1.11529  1.11529  1.11529   \n",
       "2019-10-31T00:00:15.000000000Z     True      1  1.11529  1.11529  1.11529   \n",
       "2019-10-31T00:00:15.000000000Z     True      1  1.11529  1.11529  1.11529   \n",
       "\n",
       "                                    b_c      a_o      a_h      a_l      a_c  \n",
       "time                                                                         \n",
       "2019-10-31T00:00:15.000000000Z  1.11529  1.11542  1.11542  1.11542  1.11542  \n",
       "2019-10-31T00:00:15.000000000Z  1.11529  1.11542  1.11542  1.11542  1.11542  \n",
       "2019-10-31T00:00:15.000000000Z  1.11529  1.11542  1.11542  1.11542  1.11542  \n",
       "2019-10-31T00:00:15.000000000Z  1.11529  1.11542  1.11542  1.11542  1.11542  \n",
       "2019-10-31T00:00:15.000000000Z  1.11529  1.11542  1.11542  1.11542  1.11542  \n",
       "2019-10-31T00:00:15.000000000Z  1.11529  1.11542  1.11542  1.11542  1.11542  \n",
       "2019-10-31T00:00:15.000000000Z  1.11529  1.11542  1.11542  1.11542  1.11542  \n",
       "2019-10-31T00:00:15.000000000Z  1.11529  1.11542  1.11542  1.11542  1.11542  \n",
       "2019-10-31T00:00:15.000000000Z  1.11529  1.11542  1.11542  1.11542  1.11542  \n",
       "2019-10-31T00:00:15.000000000Z  1.11529  1.11542  1.11542  1.11542  1.11542  "
      ]
     },
     "execution_count": 138,
     "metadata": {},
     "output_type": "execute_result"
    }
   ],
   "source": [
    "orig = pd.DataFrame(columns = [\"complete\",\"volume\",\"time\",\"b_o\",\"b_h\",\"b_l\",\"b_c\",\"a_o\",\"a_h\",\"a_l\",\"a_c\"])\n",
    "new_line = pd.DataFrame(pd.read_json(st, typ = 'series').to_dict(), index = [0])#.set_index('time')\n",
    "for i in range(5):\n",
    "    orig = orig.append(new_line, ignore_index = True)\n",
    "orig.set_index('time')"
   ]
  },
  {
   "cell_type": "code",
   "execution_count": 140,
   "metadata": {},
   "outputs": [],
   "source": [
    "fp = open(\"../tmp/EUR_USD_S15_fix2.json\", 'r')"
   ]
  },
  {
   "cell_type": "code",
   "execution_count": 198,
   "metadata": {},
   "outputs": [],
   "source": [
    "def parse_file(filepath):\n",
    "\n",
    "    data = pd.DataFrame(columns = [\"complete\",\"volume\",\"time\",\"b_o\",\"b_h\",\"b_l\",\"b_c\",\"a_o\",\"a_h\",\"a_l\",\"a_c\"])\n",
    "    # open the file and read through it line by line\n",
    "    with open(filepath, 'r+') as file_object:\n",
    "        line = file_object.readline()\n",
    "        while line:\n",
    "            st = line.rstrip()\n",
    "            st = st.strip(\",[] \")\n",
    "            new_line = pd.DataFrame(pd.read_json(st, typ = 'series').to_dict(), index = [0])\n",
    "            data = data.append(new_line, ignore_index = True)\n",
    "\n",
    "    return data"
   ]
  },
  {
   "cell_type": "code",
   "execution_count": null,
   "metadata": {},
   "outputs": [],
   "source": [
    "filepath =  \"../tmp/EUR_USD_S15_fix2.txt\"\n",
    "df = parse_file(filepath)"
   ]
  },
  {
   "cell_type": "code",
   "execution_count": null,
   "metadata": {},
   "outputs": [],
   "source": [
    "df"
   ]
  }
 ],
 "metadata": {
  "kernelspec": {
   "display_name": "Python 3",
   "language": "python",
   "name": "python3"
  },
  "language_info": {
   "codemirror_mode": {
    "name": "ipython",
    "version": 3
   },
   "file_extension": ".py",
   "mimetype": "text/x-python",
   "name": "python",
   "nbconvert_exporter": "python",
   "pygments_lexer": "ipython3",
   "version": "3.7.3"
  }
 },
 "nbformat": 4,
 "nbformat_minor": 2
}
