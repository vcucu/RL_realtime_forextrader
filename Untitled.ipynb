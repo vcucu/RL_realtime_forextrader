{
 "cells": [
  {
   "cell_type": "code",
   "execution_count": null,
   "metadata": {},
   "outputs": [],
   "source": [
    "import configparser  # 1\n",
    "import oandapy as opy  # 2\n",
    "from oandapy import APIv20\n",
    "from oandapy.exceptions import OandaError\n",
    "\n",
    "config = configparser.ConfigParser()  # 3\n",
    "config.read('oanda.cfg')  # 4\n",
    "\n",
    "oanda = APIv20(environment='practice',\n",
    "                access_token=['access_token'])  # 5\n",
    "\n",
    "import pandas as pd  # 6\n",
    "\n",
    "data = opy.get_history(instrument='EUR_USD',  # our instrument\n",
    "                         start='2016-12-08',  # start data\n",
    "                         end='2016-12-10',  # end date\n",
    "                         granularity='M1')  # minute bars  # 7\n",
    "\n",
    "df = pd.DataFrame(data['candles']).set_index('time')  # 8\n",
    "\n",
    "df.index = pd.DatetimeIndex(df.index)  # 9\n",
    "\n",
    "df.info() # 10\n",
    "\n",
    "try:\n",
    "    result = con.account.get_accounts()\n",
    " # In case of http status 400\n",
    "except OandaError as exc:\n",
    "     print(str(exc))\n",
    "\n",
    " # Use the result as object\n",
    "print(result.as_obj())\n",
    "MyModel(accounts=[NamelessModel(tags=[], id='101-004-12401398-002')])\n",
    "\n",
    " # Use the result as dict\n",
    "print(result.as_dict())\n",
    "{'accounts': [{'id': '101-004-12401398-002', 'tags': []}]}"
   ]
  },
  {
   "cell_type": "code",
   "execution_count": null,
   "metadata": {},
   "outputs": [],
   "source": []
  }
 ],
 "metadata": {
  "kernelspec": {
   "display_name": "Python 3",
   "language": "python",
   "name": "python3"
  },
  "language_info": {
   "codemirror_mode": {
    "name": "ipython",
    "version": 3
   },
   "file_extension": ".py",
   "mimetype": "text/x-python",
   "name": "python",
   "nbconvert_exporter": "python",
   "pygments_lexer": "ipython3",
   "version": "3.7.3"
  }
 },
 "nbformat": 4,
 "nbformat_minor": 2
}
