{
 "cells": [
  {
   "cell_type": "code",
   "execution_count": 1,
   "metadata": {},
   "outputs": [
    {
     "ename": "ModuleNotFoundError",
     "evalue": "No module named 'oandapyV20'",
     "output_type": "error",
     "traceback": [
      "\u001b[1;31m---------------------------------------------------------------------------\u001b[0m",
      "\u001b[1;31mModuleNotFoundError\u001b[0m                       Traceback (most recent call last)",
      "\u001b[1;32m<ipython-input-1-79489fa402c0>\u001b[0m in \u001b[0;36m<module>\u001b[1;34m\u001b[0m\n\u001b[1;32m----> 1\u001b[1;33m \u001b[1;32mimport\u001b[0m \u001b[0moandapyV20\u001b[0m\u001b[1;33m\u001b[0m\u001b[1;33m\u001b[0m\u001b[0m\n\u001b[0m\u001b[0;32m      2\u001b[0m \u001b[1;32mimport\u001b[0m \u001b[0moandapyV20\u001b[0m\u001b[1;33m.\u001b[0m\u001b[0mendpoints\u001b[0m\u001b[1;33m.\u001b[0m\u001b[0morders\u001b[0m \u001b[1;32mas\u001b[0m \u001b[0morders\u001b[0m\u001b[1;33m\u001b[0m\u001b[1;33m\u001b[0m\u001b[0m\n\u001b[0;32m      3\u001b[0m \u001b[1;32mimport\u001b[0m \u001b[0moandapyV20\u001b[0m\u001b[1;33m.\u001b[0m\u001b[0mendpoints\u001b[0m\u001b[1;33m.\u001b[0m\u001b[0mpricing\u001b[0m \u001b[1;32mas\u001b[0m \u001b[0mpricing\u001b[0m\u001b[1;33m\u001b[0m\u001b[1;33m\u001b[0m\u001b[0m\n\u001b[0;32m      4\u001b[0m \u001b[1;32mimport\u001b[0m \u001b[0mpandas\u001b[0m \u001b[1;32mas\u001b[0m \u001b[0mpd\u001b[0m\u001b[1;33m\u001b[0m\u001b[1;33m\u001b[0m\u001b[0m\n\u001b[0;32m      5\u001b[0m \u001b[1;32mimport\u001b[0m \u001b[0mnumpy\u001b[0m \u001b[1;32mas\u001b[0m \u001b[0mnp\u001b[0m\u001b[1;33m\u001b[0m\u001b[1;33m\u001b[0m\u001b[0m\n",
      "\u001b[1;31mModuleNotFoundError\u001b[0m: No module named 'oandapyV20'"
     ]
    }
   ],
   "source": [
    "import oandapyV20\n",
    "import oandapyV20.endpoints.orders as orders\n",
    "import oandapyV20.endpoints.pricing as pricing\n",
    "import pandas as pd\n",
    "import numpy as np\n",
    "\n",
    "access_token = '82957cd1a8234cf899f729284c094d27-e31e01c267351992774813f5e64c8b43'\n",
    "accountID = \"101-004-12401398-001\"\n",
    "client = oandapyV20.API(access_token=access_token)\n",
    "\n",
    "\n",
    "class MomentumTrader(pricing.PricingStream):\n",
    "    def __init__(self, momentum, *args, **kwargs):\n",
    "        pricing.PricingStream.__init__(self, *args, **kwargs)\n",
    "        self.ticks = 0\n",
    "        self.position = 0\n",
    "        self.df = pd.DataFrame()\n",
    "        self.momentum = momentum\n",
    "        self.units = 1000\n",
    "    def create_order(self, side, units):\n",
    "        #negative side  = selling, positive = buying\n",
    "        if side == \"sell\":\n",
    "            units = units*-1\n",
    "        mo = MarketOrderRequest(instrument=\"EUR_USD\", units=units)\n",
    "        r = orders.OrderCreate(accountID, data=mo.data)\n",
    "        print(\"making trade\")\n",
    "        client.request(r)\n",
    "        print(r.response)\n",
    "\n",
    "    def on_success(self, data):  # 36\n",
    "        print(self.ticks)\n",
    "        self.ticks += 1  # 37\n",
    "        # print(self.ticks, end=', ')\n",
    "        print(pd.DataFrame(data,index=[data['time']]))\n",
    "        # appends the new tick data to the DataFrame object\n",
    "        self.df = self.df.append(pd.DataFrame(data,\n",
    "                                 index=[data['time']]))  # 38\n",
    "        # transforms the time information to a DatetimeIndex object\n",
    "        self.df.index = pd.DatetimeIndex(self.df['time'])  # 39\n",
    "        # resamples the data set to a new, homogeneous interval\n",
    "        dfr = self.df.resample('5s').last()  # 40\n",
    "        # calculates the log returns\n",
    "        dfr['closeoutAsk'] = dfr['closeoutAsk'].astype('float')\n",
    "        dfr['returns'] = np.log(dfr['closeoutAsk'] / dfr['closeoutAsk'].shift(1))  # 41\n",
    "        # derives the positioning according to the momentum strategy\n",
    "        dfr['position'] = np.sign(dfr['returns'].rolling(\n",
    "                                      self.momentum).mean())  # 42\n",
    "        print(dfr)\n",
    "        #print(dfr['returns'][0], dfr['position'][0])\n",
    "        #print(\"positions \", dfr['position'].iloc[-1], self.position)\n",
    "        if dfr['position'].iloc[-1] == 1:  # 43\n",
    "            # go long\n",
    "            if self.position == 0:  # 44\n",
    "                self.create_order('buy', self.units)  # 45\n",
    "            elif self.position == -1:  # 46\n",
    "                self.create_order('buy', self.units * 2)  # 47\n",
    "            self.position = 1  # 48\n",
    "        elif dfr['position'].iloc[-1] == -1:  # 49\n",
    "            # go short\n",
    "            if self.position == 0:  # 50\n",
    "                self.create_order('sell', self.units)  # 51\n",
    "            elif self.position == 1: # 52\n",
    "                self.create_order('sell', self.units * 2)  # 53\n",
    "            self.position = -1  # 54\n",
    "        if self.ticks == 250:  # 55\n",
    "            # close out the position\n",
    "            if self.position == 1:  # 56\n",
    "                self.create_order('sell', self.units)  # 57\n",
    "            elif self.position == -1:  # 58\n",
    "                self.create_order('buy', self.units)  # 59\n",
    "            #self.disconnect()  # 60\n",
    "            self.terminate()\n",
    "\n",
    "\n"
   ]
  },
  {
   "cell_type": "code",
   "execution_count": null,
   "metadata": {},
   "outputs": [],
   "source": [
    "\n",
    "# setup the stream request\n",
    "params = {\"instruments\": \"EUR_USD\"}\n",
    "mt = MomentumTrader(momentum=12,accountID=accountID, params=params)\n",
    "rv = client.request(mt)\n",
    "for ticks in rv:\n",
    "    mt.on_success(ticks)"
   ]
  }
 ],
 "metadata": {
  "kernelspec": {
   "display_name": "Python 3",
   "language": "python",
   "name": "python3"
  },
  "language_info": {
   "codemirror_mode": {
    "name": "ipython",
    "version": 3
   },
   "file_extension": ".py",
   "mimetype": "text/x-python",
   "name": "python",
   "nbconvert_exporter": "python",
   "pygments_lexer": "ipython3",
   "version": "3.7.3"
  }
 },
 "nbformat": 4,
 "nbformat_minor": 2
}
