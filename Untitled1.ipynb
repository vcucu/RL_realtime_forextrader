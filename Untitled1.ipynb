{
 "cells": [
  {
   "cell_type": "code",
   "execution_count": null,
   "metadata": {},
   "outputs": [],
   "source": [
    "import json\n",
    "\n",
    "instrument, granularity = \"EUR_USD\", \"M15\"\n",
    "filename = r'C:\\Users\\vcucu\\Documents\\KTH_Q1\\II2202 Research Methodology and Scientific Writing\\tmp\\One_{}_{}.json'.format(instrument, granularity)\n",
    "#with open(filename, 'r') as f:\n",
    "#        data = json.load(f)\n",
    "\n",
    "\n",
    "\n",
    "\n",
    "\n",
    "input_file = open (filename)\n",
    "json_array = json.load(input_file)\n",
    "candles_list = []\n",
    "\n",
    "for item in json_array:\n",
    "    candle_details = {\"complete\":None, \"volume\":None, \"time\":None}\n",
    "    candle_details['complete'] = item['complete']\n",
    "    candle_details['volume'] = item['volume']\n",
    "    candle_details['time'] = item['time']\n",
    "    candles_list.append(candle_details)\n",
    "\n",
    "print(candles_list)\n"
   ]
  },
  {
   "cell_type": "code",
   "execution_count": null,
   "metadata": {},
   "outputs": [],
   "source": []
  }
 ],
 "metadata": {
  "kernelspec": {
   "display_name": "Python 3",
   "language": "python",
   "name": "python3"
  }
 },
 "nbformat": 4,
 "nbformat_minor": 2
}
